{
 "cells": [
  {
   "cell_type": "code",
   "execution_count": null,
   "metadata": {},
   "outputs": [],
   "source": [
    "import panel as pn\n",
    "import pandas as pd\n",
    "import hvplot.pandas\n",
    "\n",
    "pn.extension()"
   ]
  },
  {
   "cell_type": "code",
   "execution_count": null,
   "metadata": {},
   "outputs": [],
   "source": [
    "# Dashboard 1: Jupyter Notebook\n",
    "data1 = {'Category': ['A', 'B', 'C', 'D'], 'Value1': [1, 2, 3, 4], 'Value2': [4, 3, 2, 1], 'Value3': [10, 20, 30, 40]}\n",
    "df1 = pd.DataFrame(data1)\n",
    "\n",
    "bar_plot = df1.hvplot.bar(x='Category', y='Value1', title='Bar Plot')\n",
    "line_plot = df1.hvplot.line(x='Category', y=['Value1', 'Value2'], title='Line Plot')\n",
    "scatter_plot = df1.hvplot.scatter(x='Value1', y='Value2', title='Scatter Plot')\n",
    "area_plot = df1.hvplot.area(x='Category', y='Value3', title='Area Plot')\n",
    "\n",
    "row1 = pn.Row(bar_plot, line_plot)\n",
    "row2 = pn.Row(scatter_plot, area_plot)"
   ]
  },
  {
   "cell_type": "code",
   "execution_count": null,
   "metadata": {},
   "outputs": [],
   "source": [
    "template = pn.template.FastListTemplate(title='Dashboard 1', main=[row1, row2])\n",
    "\n",
    "template.servable()"
   ]
  }
 ],
 "metadata": {
  "language_info": {
   "name": "python"
  },
  "orig_nbformat": 4
 },
 "nbformat": 4,
 "nbformat_minor": 2
}
